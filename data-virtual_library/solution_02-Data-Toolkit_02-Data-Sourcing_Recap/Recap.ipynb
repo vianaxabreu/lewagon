{
 "cells": [
  {
   "cell_type": "markdown",
   "metadata": {},
   "source": [
    "# CSV + API\n",
    "\n",
    "In this reboot, we are going to use:\n",
    "\n",
    "- The [Goodreads books](https://www.kaggle.com/jealousleopard/goodreadsbooks) dataset from Kaggle.\n",
    "- The [Open Library Books API](https://openlibrary.org/dev/docs/api/books)\n",
    "\n",
    "The goal of this livecode is to load the data from a CSV + loop over rows to enrich each row with information such as:\n",
    "\n",
    "- List of subjects (Science, Humor, Travel, etc.)\n",
    "- The cover URL of the book\n",
    "- Other information you'd find useful in the JSON API"
   ]
  },
  {
   "cell_type": "markdown",
   "metadata": {},
   "source": [
    "First, download the CSV in the local folder:"
   ]
  },
  {
   "cell_type": "code",
   "execution_count": null,
   "metadata": {},
   "outputs": [
    {
     "name": "stdout",
     "output_type": "stream",
     "text": [
      "  % Total    % Received % Xferd  Average Speed   Time    Time     Time  Current\n",
      "                                 Dload  Upload   Total   Spent    Left  Speed\n",
      "100 1509k  100 1509k    0     0  3707k      0 --:--:-- --:--:-- --:--:-- 3708k\n"
     ]
    }
   ],
   "source": [
    "!curl -L https://gist.githubusercontent.com/ssaunier/351b17f5a7a009808b60aeacd1f4a036/raw/books.csv > books.csv"
   ]
  },
  {
   "cell_type": "code",
   "execution_count": null,
   "metadata": {},
   "outputs": [
    {
     "name": "stdout",
     "output_type": "stream",
     "text": [
      "total 1.6M\n",
      "-rw-r--r-- 1 bruncky bruncky 1.5M Sep 13 18:13 books.csv\n",
      "-rw-r--r-- 1 bruncky bruncky  579 Jun 21 13:40 README.md\n",
      "-rw-r--r-- 1 bruncky bruncky 2.3K Jun 21 13:40 Recap.ipynb\n",
      "-rw-r--r-- 1 bruncky bruncky  47K Sep 13 18:11 Recap_Solution.ipynb\n"
     ]
    }
   ],
   "source": [
    "!ls -lh"
   ]
  },
  {
   "cell_type": "markdown",
   "metadata": {},
   "source": [
    "Then import the usual suspects!"
   ]
  },
  {
   "cell_type": "code",
   "execution_count": null,
   "metadata": {},
   "outputs": [],
   "source": [
    "import requests\n",
    "import pandas as pd\n",
    "import numpy as np"
   ]
  },
  {
   "cell_type": "markdown",
   "metadata": {},
   "source": [
    "## Load books from CSV"
   ]
  },
  {
   "cell_type": "code",
   "execution_count": null,
   "metadata": {
    "tags": [
     "challengify"
    ]
   },
   "outputs": [
    {
     "data": {
      "text/html": [
       "<div>\n",
       "<style scoped>\n",
       "    .dataframe tbody tr th:only-of-type {\n",
       "        vertical-align: middle;\n",
       "    }\n",
       "\n",
       "    .dataframe tbody tr th {\n",
       "        vertical-align: top;\n",
       "    }\n",
       "\n",
       "    .dataframe thead th {\n",
       "        text-align: right;\n",
       "    }\n",
       "</style>\n",
       "<table border=\"1\" class=\"dataframe\">\n",
       "  <thead>\n",
       "    <tr style=\"text-align: right;\">\n",
       "      <th></th>\n",
       "      <th>title</th>\n",
       "      <th>authors</th>\n",
       "      <th>isbn13</th>\n",
       "      <th># num_pages</th>\n",
       "    </tr>\n",
       "  </thead>\n",
       "  <tbody>\n",
       "    <tr>\n",
       "      <th>0</th>\n",
       "      <td>Harry Potter and the Half-Blood Prince (Harry ...</td>\n",
       "      <td>J.K. Rowling-Mary GrandPré</td>\n",
       "      <td>9780439785969</td>\n",
       "      <td>652</td>\n",
       "    </tr>\n",
       "    <tr>\n",
       "      <th>1</th>\n",
       "      <td>Harry Potter and the Order of the Phoenix (Har...</td>\n",
       "      <td>J.K. Rowling-Mary GrandPré</td>\n",
       "      <td>9780439358071</td>\n",
       "      <td>870</td>\n",
       "    </tr>\n",
       "    <tr>\n",
       "      <th>2</th>\n",
       "      <td>Harry Potter and the Sorcerer's Stone (Harry P...</td>\n",
       "      <td>J.K. Rowling-Mary GrandPré</td>\n",
       "      <td>9780439554930</td>\n",
       "      <td>320</td>\n",
       "    </tr>\n",
       "    <tr>\n",
       "      <th>3</th>\n",
       "      <td>Harry Potter and the Chamber of Secrets (Harry...</td>\n",
       "      <td>J.K. Rowling</td>\n",
       "      <td>9780439554893</td>\n",
       "      <td>352</td>\n",
       "    </tr>\n",
       "    <tr>\n",
       "      <th>4</th>\n",
       "      <td>Harry Potter and the Prisoner of Azkaban (Harr...</td>\n",
       "      <td>J.K. Rowling-Mary GrandPré</td>\n",
       "      <td>9780439655484</td>\n",
       "      <td>435</td>\n",
       "    </tr>\n",
       "    <tr>\n",
       "      <th>...</th>\n",
       "      <td>...</td>\n",
       "      <td>...</td>\n",
       "      <td>...</td>\n",
       "      <td>...</td>\n",
       "    </tr>\n",
       "    <tr>\n",
       "      <th>13714</th>\n",
       "      <td>M Is for Magic</td>\n",
       "      <td>Neil Gaiman-Teddy Kristiansen</td>\n",
       "      <td>9780061186424</td>\n",
       "      <td>260</td>\n",
       "    </tr>\n",
       "    <tr>\n",
       "      <th>13715</th>\n",
       "      <td>Black Orchid</td>\n",
       "      <td>Neil Gaiman-Dave McKean</td>\n",
       "      <td>9780930289553</td>\n",
       "      <td>160</td>\n",
       "    </tr>\n",
       "    <tr>\n",
       "      <th>13716</th>\n",
       "      <td>InterWorld (InterWorld  #1)</td>\n",
       "      <td>Neil Gaiman-Michael Reaves</td>\n",
       "      <td>9780061238963</td>\n",
       "      <td>239</td>\n",
       "    </tr>\n",
       "    <tr>\n",
       "      <th>13717</th>\n",
       "      <td>The Faeries' Oracle</td>\n",
       "      <td>Brian Froud-Jessica Macbeth</td>\n",
       "      <td>9780743201117</td>\n",
       "      <td>224</td>\n",
       "    </tr>\n",
       "    <tr>\n",
       "      <th>13718</th>\n",
       "      <td>The World of The Dark Crystal</td>\n",
       "      <td>Brian Froud</td>\n",
       "      <td>9781862056244</td>\n",
       "      <td>132</td>\n",
       "    </tr>\n",
       "  </tbody>\n",
       "</table>\n",
       "<p>13719 rows × 4 columns</p>\n",
       "</div>"
      ],
      "text/plain": [
       "                                                   title  \\\n",
       "0      Harry Potter and the Half-Blood Prince (Harry ...   \n",
       "1      Harry Potter and the Order of the Phoenix (Har...   \n",
       "2      Harry Potter and the Sorcerer's Stone (Harry P...   \n",
       "3      Harry Potter and the Chamber of Secrets (Harry...   \n",
       "4      Harry Potter and the Prisoner of Azkaban (Harr...   \n",
       "...                                                  ...   \n",
       "13714                                     M Is for Magic   \n",
       "13715                                       Black Orchid   \n",
       "13716                        InterWorld (InterWorld  #1)   \n",
       "13717                                The Faeries' Oracle   \n",
       "13718                      The World of The Dark Crystal   \n",
       "\n",
       "                             authors         isbn13  # num_pages  \n",
       "0         J.K. Rowling-Mary GrandPré  9780439785969          652  \n",
       "1         J.K. Rowling-Mary GrandPré  9780439358071          870  \n",
       "2         J.K. Rowling-Mary GrandPré  9780439554930          320  \n",
       "3                       J.K. Rowling  9780439554893          352  \n",
       "4         J.K. Rowling-Mary GrandPré  9780439655484          435  \n",
       "...                              ...            ...          ...  \n",
       "13714  Neil Gaiman-Teddy Kristiansen  9780061186424          260  \n",
       "13715        Neil Gaiman-Dave McKean  9780930289553          160  \n",
       "13716     Neil Gaiman-Michael Reaves  9780061238963          239  \n",
       "13717    Brian Froud-Jessica Macbeth  9780743201117          224  \n",
       "13718                    Brian Froud  9781862056244          132  \n",
       "\n",
       "[13719 rows x 4 columns]"
      ]
     },
     "execution_count": null,
     "metadata": {},
     "output_type": "execute_result"
    }
   ],
   "source": [
    "books_df = pd.read_csv('books.csv', on_bad_lines='skip')\n",
    "books_df = books_df.drop(columns=['bookID', 'isbn', 'average_rating', 'language_code', 'ratings_count', 'text_reviews_count'])\n",
    "books_df"
   ]
  },
  {
   "cell_type": "code",
   "execution_count": null,
   "metadata": {
    "tags": [
     "delete"
    ]
   },
   "outputs": [
    {
     "data": {
      "text/plain": [
       "title          object\n",
       "authors        object\n",
       "isbn13          int64\n",
       "# num_pages     int64\n",
       "dtype: object"
      ]
     },
     "execution_count": null,
     "metadata": {},
     "output_type": "execute_result"
    }
   ],
   "source": [
    "books_df.dtypes"
   ]
  },
  {
   "cell_type": "markdown",
   "metadata": {},
   "source": [
    "Let's add a new column"
   ]
  },
  {
   "cell_type": "code",
   "execution_count": null,
   "metadata": {
    "tags": [
     "challengify"
    ]
   },
   "outputs": [
    {
     "data": {
      "text/html": [
       "<div>\n",
       "<style scoped>\n",
       "    .dataframe tbody tr th:only-of-type {\n",
       "        vertical-align: middle;\n",
       "    }\n",
       "\n",
       "    .dataframe tbody tr th {\n",
       "        vertical-align: top;\n",
       "    }\n",
       "\n",
       "    .dataframe thead th {\n",
       "        text-align: right;\n",
       "    }\n",
       "</style>\n",
       "<table border=\"1\" class=\"dataframe\">\n",
       "  <thead>\n",
       "    <tr style=\"text-align: right;\">\n",
       "      <th></th>\n",
       "      <th>title</th>\n",
       "      <th>authors</th>\n",
       "      <th>isbn13</th>\n",
       "      <th># num_pages</th>\n",
       "      <th>cover_url</th>\n",
       "    </tr>\n",
       "  </thead>\n",
       "  <tbody>\n",
       "    <tr>\n",
       "      <th>0</th>\n",
       "      <td>Harry Potter and the Half-Blood Prince (Harry ...</td>\n",
       "      <td>J.K. Rowling-Mary GrandPré</td>\n",
       "      <td>9780439785969</td>\n",
       "      <td>652</td>\n",
       "      <td>None</td>\n",
       "    </tr>\n",
       "    <tr>\n",
       "      <th>1</th>\n",
       "      <td>Harry Potter and the Order of the Phoenix (Har...</td>\n",
       "      <td>J.K. Rowling-Mary GrandPré</td>\n",
       "      <td>9780439358071</td>\n",
       "      <td>870</td>\n",
       "      <td>None</td>\n",
       "    </tr>\n",
       "    <tr>\n",
       "      <th>2</th>\n",
       "      <td>Harry Potter and the Sorcerer's Stone (Harry P...</td>\n",
       "      <td>J.K. Rowling-Mary GrandPré</td>\n",
       "      <td>9780439554930</td>\n",
       "      <td>320</td>\n",
       "      <td>None</td>\n",
       "    </tr>\n",
       "    <tr>\n",
       "      <th>3</th>\n",
       "      <td>Harry Potter and the Chamber of Secrets (Harry...</td>\n",
       "      <td>J.K. Rowling</td>\n",
       "      <td>9780439554893</td>\n",
       "      <td>352</td>\n",
       "      <td>None</td>\n",
       "    </tr>\n",
       "    <tr>\n",
       "      <th>4</th>\n",
       "      <td>Harry Potter and the Prisoner of Azkaban (Harr...</td>\n",
       "      <td>J.K. Rowling-Mary GrandPré</td>\n",
       "      <td>9780439655484</td>\n",
       "      <td>435</td>\n",
       "      <td>None</td>\n",
       "    </tr>\n",
       "  </tbody>\n",
       "</table>\n",
       "</div>"
      ],
      "text/plain": [
       "                                               title  \\\n",
       "0  Harry Potter and the Half-Blood Prince (Harry ...   \n",
       "1  Harry Potter and the Order of the Phoenix (Har...   \n",
       "2  Harry Potter and the Sorcerer's Stone (Harry P...   \n",
       "3  Harry Potter and the Chamber of Secrets (Harry...   \n",
       "4  Harry Potter and the Prisoner of Azkaban (Harr...   \n",
       "\n",
       "                      authors         isbn13  # num_pages cover_url  \n",
       "0  J.K. Rowling-Mary GrandPré  9780439785969          652      None  \n",
       "1  J.K. Rowling-Mary GrandPré  9780439358071          870      None  \n",
       "2  J.K. Rowling-Mary GrandPré  9780439554930          320      None  \n",
       "3                J.K. Rowling  9780439554893          352      None  \n",
       "4  J.K. Rowling-Mary GrandPré  9780439655484          435      None  "
      ]
     },
     "execution_count": null,
     "metadata": {},
     "output_type": "execute_result"
    }
   ],
   "source": [
    "books_df['cover_url'] = None\n",
    "books_df.head()"
   ]
  },
  {
   "cell_type": "markdown",
   "metadata": {},
   "source": [
    "## API - Open Library"
   ]
  },
  {
   "cell_type": "code",
   "execution_count": null,
   "metadata": {
    "tags": [
     "challengify"
    ]
   },
   "outputs": [],
   "source": [
    "def fetch_book(isbn):\n",
    "    # Define URL to be queried\n",
    "    url = 'https://openlibrary.org/api/books'\n",
    "    \n",
    "    # Define parameters to send with the HTTP request\n",
    "    params = {\n",
    "        'bibkeys': f'ISBN:{isbn}',\n",
    "        'format': 'json',\n",
    "        'jscmd': 'data'\n",
    "    }\n",
    "    \n",
    "    # Perform the request\n",
    "    response = requests.get(url, params=params).json()\n",
    "    \n",
    "    # Check whether ISBN is in the response\n",
    "    if f'ISBN:{isbn}' in response:\n",
    "        return response[f'ISBN:{isbn}']\n",
    "    else:\n",
    "        return ''"
   ]
  },
  {
   "cell_type": "code",
   "execution_count": null,
   "metadata": {
    "tags": [
     "delete"
    ]
   },
   "outputs": [
    {
     "name": "stdout",
     "output_type": "stream",
     "text": [
      "Fetching cover for Harry Potter and the Half-Blood Prince (Harry Potter  #6)\n",
      "Fetching cover for Harry Potter and the Order of the Phoenix (Harry Potter  #5)\n",
      "Fetching cover for Harry Potter and the Sorcerer's Stone (Harry Potter  #1)\n",
      "Fetching cover for Harry Potter and the Chamber of Secrets (Harry Potter  #2)\n",
      "Fetching cover for Harry Potter and the Prisoner of Azkaban (Harry Potter  #3)\n",
      "Fetching cover for Harry Potter Boxed Set  Books 1-5 (Harry Potter  #1-5)\n",
      "Fetching cover for Unauthorized Harry Potter Book Seven News: \"Half-Blood Prince\" Analysis and Speculation\n",
      "Fetching cover for Harry Potter Collection (Harry Potter  #1-6)\n",
      "Fetching cover for The Ultimate Hitchhiker's Guide: Five Complete Novels and One Story (Hitchhiker's Guide to the Galaxy  #1-5)\n",
      "Fetching cover for The Ultimate Hitchhiker's Guide to the Galaxy\n",
      "Fetching cover for The Hitchhiker's Guide to the Galaxy (Hitchhiker's Guide to the Galaxy  #1)\n",
      "Fetching cover for The Hitchhiker's Guide to the Galaxy (Hitchhiker's Guide to the Galaxy  #1)\n",
      "Fetching cover for The Ultimate Hitchhiker's Guide (Hitchhiker's Guide to the Galaxy #1-5)\n",
      "Fetching cover for A Short History of Nearly Everything\n",
      "Fetching cover for Bill Bryson's African Diary\n",
      "CPU times: user 129 ms, sys: 16.6 ms, total: 146 ms\n",
      "Wall time: 11 s\n"
     ]
    }
   ],
   "source": [
    "%%time\n",
    "\n",
    "# TODO: for row in rows => fetch_book => add column\n",
    "\n",
    "for index, row in books_df.head(15).iterrows():\n",
    "    # If the book has no cover URL, fetch it\n",
    "    if row['cover_url'] is None:\n",
    "        isbn = row['isbn13']\n",
    "        print(f\"Fetching cover for {row['title']}\")\n",
    "        \n",
    "        book = fetch_book(isbn)\n",
    "        \n",
    "        # If a book is found with that ISBN, fetch the cover URL\n",
    "        if book:\n",
    "            cover_url = book.get('cover', {}).get('large', '')\n",
    "            books_df.loc[index, 'cover_url'] = cover_url\n",
    "        else:\n",
    "            books_df.loc[index, 'cover_url'] = ''"
   ]
  },
  {
   "cell_type": "code",
   "execution_count": null,
   "metadata": {
    "tags": [
     "delete"
    ]
   },
   "outputs": [
    {
     "data": {
      "text/html": [
       "<div>\n",
       "<style scoped>\n",
       "    .dataframe tbody tr th:only-of-type {\n",
       "        vertical-align: middle;\n",
       "    }\n",
       "\n",
       "    .dataframe tbody tr th {\n",
       "        vertical-align: top;\n",
       "    }\n",
       "\n",
       "    .dataframe thead th {\n",
       "        text-align: right;\n",
       "    }\n",
       "</style>\n",
       "<table border=\"1\" class=\"dataframe\">\n",
       "  <thead>\n",
       "    <tr style=\"text-align: right;\">\n",
       "      <th></th>\n",
       "      <th>title</th>\n",
       "      <th>authors</th>\n",
       "      <th>isbn13</th>\n",
       "      <th># num_pages</th>\n",
       "      <th>cover_url</th>\n",
       "    </tr>\n",
       "  </thead>\n",
       "  <tbody>\n",
       "    <tr>\n",
       "      <th>0</th>\n",
       "      <td>Harry Potter and the Half-Blood Prince (Harry ...</td>\n",
       "      <td>J.K. Rowling-Mary GrandPré</td>\n",
       "      <td>9780439785969</td>\n",
       "      <td>652</td>\n",
       "      <td>https://covers.openlibrary.org/b/id/9326654-L.jpg</td>\n",
       "    </tr>\n",
       "    <tr>\n",
       "      <th>1</th>\n",
       "      <td>Harry Potter and the Order of the Phoenix (Har...</td>\n",
       "      <td>J.K. Rowling-Mary GrandPré</td>\n",
       "      <td>9780439358071</td>\n",
       "      <td>870</td>\n",
       "      <td>https://covers.openlibrary.org/b/id/12025650-L...</td>\n",
       "    </tr>\n",
       "    <tr>\n",
       "      <th>2</th>\n",
       "      <td>Harry Potter and the Sorcerer's Stone (Harry P...</td>\n",
       "      <td>J.K. Rowling-Mary GrandPré</td>\n",
       "      <td>9780439554930</td>\n",
       "      <td>320</td>\n",
       "      <td>https://covers.openlibrary.org/b/id/7572543-L.jpg</td>\n",
       "    </tr>\n",
       "    <tr>\n",
       "      <th>3</th>\n",
       "      <td>Harry Potter and the Chamber of Secrets (Harry...</td>\n",
       "      <td>J.K. Rowling</td>\n",
       "      <td>9780439554893</td>\n",
       "      <td>352</td>\n",
       "      <td>https://covers.openlibrary.org/b/id/10301720-L...</td>\n",
       "    </tr>\n",
       "    <tr>\n",
       "      <th>4</th>\n",
       "      <td>Harry Potter and the Prisoner of Azkaban (Harr...</td>\n",
       "      <td>J.K. Rowling-Mary GrandPré</td>\n",
       "      <td>9780439655484</td>\n",
       "      <td>435</td>\n",
       "      <td>https://covers.openlibrary.org/b/id/10580458-L...</td>\n",
       "    </tr>\n",
       "    <tr>\n",
       "      <th>5</th>\n",
       "      <td>Harry Potter Boxed Set  Books 1-5 (Harry Potte...</td>\n",
       "      <td>J.K. Rowling-Mary GrandPré</td>\n",
       "      <td>9780439682589</td>\n",
       "      <td>2690</td>\n",
       "      <td>https://covers.openlibrary.org/b/id/278981-L.jpg</td>\n",
       "    </tr>\n",
       "    <tr>\n",
       "      <th>6</th>\n",
       "      <td>Unauthorized Harry Potter Book Seven News: \"Ha...</td>\n",
       "      <td>W. Frederick Zimmerman</td>\n",
       "      <td>9780976540601</td>\n",
       "      <td>152</td>\n",
       "      <td>https://covers.openlibrary.org/b/id/742235-L.jpg</td>\n",
       "    </tr>\n",
       "    <tr>\n",
       "      <th>7</th>\n",
       "      <td>Harry Potter Collection (Harry Potter  #1-6)</td>\n",
       "      <td>J.K. Rowling</td>\n",
       "      <td>9780439827607</td>\n",
       "      <td>3342</td>\n",
       "      <td>https://covers.openlibrary.org/b/id/279436-L.jpg</td>\n",
       "    </tr>\n",
       "    <tr>\n",
       "      <th>8</th>\n",
       "      <td>The Ultimate Hitchhiker's Guide: Five Complete...</td>\n",
       "      <td>Douglas Adams</td>\n",
       "      <td>9780517226957</td>\n",
       "      <td>815</td>\n",
       "      <td>https://covers.openlibrary.org/b/id/12617870-L...</td>\n",
       "    </tr>\n",
       "    <tr>\n",
       "      <th>9</th>\n",
       "      <td>The Ultimate Hitchhiker's Guide to the Galaxy</td>\n",
       "      <td>Douglas Adams</td>\n",
       "      <td>9780345453747</td>\n",
       "      <td>815</td>\n",
       "      <td></td>\n",
       "    </tr>\n",
       "    <tr>\n",
       "      <th>10</th>\n",
       "      <td>The Hitchhiker's Guide to the Galaxy (Hitchhik...</td>\n",
       "      <td>Douglas Adams</td>\n",
       "      <td>9781400052929</td>\n",
       "      <td>215</td>\n",
       "      <td>https://covers.openlibrary.org/b/id/10176291-L...</td>\n",
       "    </tr>\n",
       "    <tr>\n",
       "      <th>11</th>\n",
       "      <td>The Hitchhiker's Guide to the Galaxy (Hitchhik...</td>\n",
       "      <td>Douglas Adams-Stephen Fry</td>\n",
       "      <td>9780739322208</td>\n",
       "      <td>6</td>\n",
       "      <td>https://covers.openlibrary.org/b/id/8769632-L.jpg</td>\n",
       "    </tr>\n",
       "    <tr>\n",
       "      <th>12</th>\n",
       "      <td>The Ultimate Hitchhiker's Guide (Hitchhiker's ...</td>\n",
       "      <td>Douglas Adams</td>\n",
       "      <td>9780517149256</td>\n",
       "      <td>815</td>\n",
       "      <td>https://covers.openlibrary.org/b/id/7892560-L.jpg</td>\n",
       "    </tr>\n",
       "    <tr>\n",
       "      <th>13</th>\n",
       "      <td>A Short History of Nearly Everything</td>\n",
       "      <td>Bill Bryson-William Roberts</td>\n",
       "      <td>9780767908184</td>\n",
       "      <td>544</td>\n",
       "      <td>https://covers.openlibrary.org/b/id/12725608-L...</td>\n",
       "    </tr>\n",
       "    <tr>\n",
       "      <th>14</th>\n",
       "      <td>Bill Bryson's African Diary</td>\n",
       "      <td>Bill Bryson</td>\n",
       "      <td>9780767915069</td>\n",
       "      <td>55</td>\n",
       "      <td>https://covers.openlibrary.org/b/id/6815851-L.jpg</td>\n",
       "    </tr>\n",
       "  </tbody>\n",
       "</table>\n",
       "</div>"
      ],
      "text/plain": [
       "                                                title  \\\n",
       "0   Harry Potter and the Half-Blood Prince (Harry ...   \n",
       "1   Harry Potter and the Order of the Phoenix (Har...   \n",
       "2   Harry Potter and the Sorcerer's Stone (Harry P...   \n",
       "3   Harry Potter and the Chamber of Secrets (Harry...   \n",
       "4   Harry Potter and the Prisoner of Azkaban (Harr...   \n",
       "5   Harry Potter Boxed Set  Books 1-5 (Harry Potte...   \n",
       "6   Unauthorized Harry Potter Book Seven News: \"Ha...   \n",
       "7        Harry Potter Collection (Harry Potter  #1-6)   \n",
       "8   The Ultimate Hitchhiker's Guide: Five Complete...   \n",
       "9       The Ultimate Hitchhiker's Guide to the Galaxy   \n",
       "10  The Hitchhiker's Guide to the Galaxy (Hitchhik...   \n",
       "11  The Hitchhiker's Guide to the Galaxy (Hitchhik...   \n",
       "12  The Ultimate Hitchhiker's Guide (Hitchhiker's ...   \n",
       "13               A Short History of Nearly Everything   \n",
       "14                        Bill Bryson's African Diary   \n",
       "\n",
       "                        authors         isbn13  # num_pages  \\\n",
       "0    J.K. Rowling-Mary GrandPré  9780439785969          652   \n",
       "1    J.K. Rowling-Mary GrandPré  9780439358071          870   \n",
       "2    J.K. Rowling-Mary GrandPré  9780439554930          320   \n",
       "3                  J.K. Rowling  9780439554893          352   \n",
       "4    J.K. Rowling-Mary GrandPré  9780439655484          435   \n",
       "5    J.K. Rowling-Mary GrandPré  9780439682589         2690   \n",
       "6        W. Frederick Zimmerman  9780976540601          152   \n",
       "7                  J.K. Rowling  9780439827607         3342   \n",
       "8                 Douglas Adams  9780517226957          815   \n",
       "9                 Douglas Adams  9780345453747          815   \n",
       "10                Douglas Adams  9781400052929          215   \n",
       "11    Douglas Adams-Stephen Fry  9780739322208            6   \n",
       "12                Douglas Adams  9780517149256          815   \n",
       "13  Bill Bryson-William Roberts  9780767908184          544   \n",
       "14                  Bill Bryson  9780767915069           55   \n",
       "\n",
       "                                            cover_url  \n",
       "0   https://covers.openlibrary.org/b/id/9326654-L.jpg  \n",
       "1   https://covers.openlibrary.org/b/id/12025650-L...  \n",
       "2   https://covers.openlibrary.org/b/id/7572543-L.jpg  \n",
       "3   https://covers.openlibrary.org/b/id/10301720-L...  \n",
       "4   https://covers.openlibrary.org/b/id/10580458-L...  \n",
       "5    https://covers.openlibrary.org/b/id/278981-L.jpg  \n",
       "6    https://covers.openlibrary.org/b/id/742235-L.jpg  \n",
       "7    https://covers.openlibrary.org/b/id/279436-L.jpg  \n",
       "8   https://covers.openlibrary.org/b/id/12617870-L...  \n",
       "9                                                      \n",
       "10  https://covers.openlibrary.org/b/id/10176291-L...  \n",
       "11  https://covers.openlibrary.org/b/id/8769632-L.jpg  \n",
       "12  https://covers.openlibrary.org/b/id/7892560-L.jpg  \n",
       "13  https://covers.openlibrary.org/b/id/12725608-L...  \n",
       "14  https://covers.openlibrary.org/b/id/6815851-L.jpg  "
      ]
     },
     "execution_count": null,
     "metadata": {},
     "output_type": "execute_result"
    }
   ],
   "source": [
    "books_df.head(15)"
   ]
  },
  {
   "cell_type": "markdown",
   "metadata": {},
   "source": [
    "## Calling the API with multiple ISBNs at a time"
   ]
  },
  {
   "cell_type": "code",
   "execution_count": null,
   "metadata": {
    "tags": [
     "challengify"
    ]
   },
   "outputs": [
    {
     "data": {
      "text/plain": [
       "['ISBN:9780439785969', 'ISBN:9780439358071', 'ISBN:9780439554930']"
      ]
     },
     "execution_count": null,
     "metadata": {},
     "output_type": "execute_result"
    }
   ],
   "source": [
    "isbns = [9780439785969, 9780439358071, 9780439554930]\n",
    "[f\"ISBN:{isbn}\" for isbn in isbns]"
   ]
  },
  {
   "cell_type": "code",
   "execution_count": null,
   "metadata": {
    "tags": [
     "delete"
    ]
   },
   "outputs": [
    {
     "data": {
      "text/plain": [
       "'ISBN:9780439785969,ISBN:9780439358071,ISBN:9780439554930'"
      ]
     },
     "execution_count": null,
     "metadata": {},
     "output_type": "execute_result"
    }
   ],
   "source": [
    "\",\".join([f\"ISBN:{isbn}\" for isbn in isbns])"
   ]
  },
  {
   "cell_type": "code",
   "execution_count": null,
   "metadata": {
    "tags": [
     "delete"
    ]
   },
   "outputs": [],
   "source": [
    "def fetch_books(isbns):\n",
    "    # Define the URL and build bibkeys from ISBN\n",
    "    url = \"https://openlibrary.org/api/books\"\n",
    "    bibkeys = \",\".join([f\"ISBN:{isbn}\" for isbn in isbns])\n",
    "    \n",
    "    # Define parameters for HTTP request\n",
    "    params = {\n",
    "        'bibkeys': bibkeys,\n",
    "        'format': 'json',\n",
    "        'jscmd': 'data'\n",
    "    }\n",
    "    \n",
    "    # Perform request\n",
    "    response = requests.get(url, params=params).json()\n",
    "    \n",
    "    return response"
   ]
  },
  {
   "cell_type": "code",
   "execution_count": null,
   "metadata": {
    "tags": [
     "delete"
    ]
   },
   "outputs": [],
   "source": [
    "books_df.set_index(\"isbn13\", inplace=True)"
   ]
  },
  {
   "cell_type": "code",
   "execution_count": null,
   "metadata": {
    "tags": [
     "delete"
    ]
   },
   "outputs": [
    {
     "data": {
      "text/html": [
       "<div>\n",
       "<style scoped>\n",
       "    .dataframe tbody tr th:only-of-type {\n",
       "        vertical-align: middle;\n",
       "    }\n",
       "\n",
       "    .dataframe tbody tr th {\n",
       "        vertical-align: top;\n",
       "    }\n",
       "\n",
       "    .dataframe thead th {\n",
       "        text-align: right;\n",
       "    }\n",
       "</style>\n",
       "<table border=\"1\" class=\"dataframe\">\n",
       "  <thead>\n",
       "    <tr style=\"text-align: right;\">\n",
       "      <th></th>\n",
       "      <th>title</th>\n",
       "      <th>authors</th>\n",
       "      <th># num_pages</th>\n",
       "      <th>cover_url</th>\n",
       "    </tr>\n",
       "    <tr>\n",
       "      <th>isbn13</th>\n",
       "      <th></th>\n",
       "      <th></th>\n",
       "      <th></th>\n",
       "      <th></th>\n",
       "    </tr>\n",
       "  </thead>\n",
       "  <tbody>\n",
       "    <tr>\n",
       "      <th>9780439785969</th>\n",
       "      <td>Harry Potter and the Half-Blood Prince (Harry ...</td>\n",
       "      <td>J.K. Rowling-Mary GrandPré</td>\n",
       "      <td>652</td>\n",
       "      <td>https://covers.openlibrary.org/b/id/9326654-L.jpg</td>\n",
       "    </tr>\n",
       "    <tr>\n",
       "      <th>9780439358071</th>\n",
       "      <td>Harry Potter and the Order of the Phoenix (Har...</td>\n",
       "      <td>J.K. Rowling-Mary GrandPré</td>\n",
       "      <td>870</td>\n",
       "      <td>https://covers.openlibrary.org/b/id/12025650-L...</td>\n",
       "    </tr>\n",
       "    <tr>\n",
       "      <th>9780439554930</th>\n",
       "      <td>Harry Potter and the Sorcerer's Stone (Harry P...</td>\n",
       "      <td>J.K. Rowling-Mary GrandPré</td>\n",
       "      <td>320</td>\n",
       "      <td>https://covers.openlibrary.org/b/id/7572543-L.jpg</td>\n",
       "    </tr>\n",
       "    <tr>\n",
       "      <th>9780439554893</th>\n",
       "      <td>Harry Potter and the Chamber of Secrets (Harry...</td>\n",
       "      <td>J.K. Rowling</td>\n",
       "      <td>352</td>\n",
       "      <td>https://covers.openlibrary.org/b/id/10301720-L...</td>\n",
       "    </tr>\n",
       "    <tr>\n",
       "      <th>9780439655484</th>\n",
       "      <td>Harry Potter and the Prisoner of Azkaban (Harr...</td>\n",
       "      <td>J.K. Rowling-Mary GrandPré</td>\n",
       "      <td>435</td>\n",
       "      <td>https://covers.openlibrary.org/b/id/10580458-L...</td>\n",
       "    </tr>\n",
       "  </tbody>\n",
       "</table>\n",
       "</div>"
      ],
      "text/plain": [
       "                                                           title  \\\n",
       "isbn13                                                             \n",
       "9780439785969  Harry Potter and the Half-Blood Prince (Harry ...   \n",
       "9780439358071  Harry Potter and the Order of the Phoenix (Har...   \n",
       "9780439554930  Harry Potter and the Sorcerer's Stone (Harry P...   \n",
       "9780439554893  Harry Potter and the Chamber of Secrets (Harry...   \n",
       "9780439655484  Harry Potter and the Prisoner of Azkaban (Harr...   \n",
       "\n",
       "                                  authors  # num_pages  \\\n",
       "isbn13                                                   \n",
       "9780439785969  J.K. Rowling-Mary GrandPré          652   \n",
       "9780439358071  J.K. Rowling-Mary GrandPré          870   \n",
       "9780439554930  J.K. Rowling-Mary GrandPré          320   \n",
       "9780439554893                J.K. Rowling          352   \n",
       "9780439655484  J.K. Rowling-Mary GrandPré          435   \n",
       "\n",
       "                                                       cover_url  \n",
       "isbn13                                                            \n",
       "9780439785969  https://covers.openlibrary.org/b/id/9326654-L.jpg  \n",
       "9780439358071  https://covers.openlibrary.org/b/id/12025650-L...  \n",
       "9780439554930  https://covers.openlibrary.org/b/id/7572543-L.jpg  \n",
       "9780439554893  https://covers.openlibrary.org/b/id/10301720-L...  \n",
       "9780439655484  https://covers.openlibrary.org/b/id/10580458-L...  "
      ]
     },
     "execution_count": null,
     "metadata": {},
     "output_type": "execute_result"
    }
   ],
   "source": [
    "books_df.head()"
   ]
  },
  {
   "cell_type": "code",
   "execution_count": null,
   "metadata": {
    "tags": [
     "delete"
    ]
   },
   "outputs": [],
   "source": [
    "!pip install tqdm"
   ]
  },
  {
   "cell_type": "code",
   "execution_count": null,
   "metadata": {
    "tags": [
     "delete"
    ]
   },
   "outputs": [
    {
     "name": "stderr",
     "output_type": "stream",
     "text": [
      "100%|█████████████████████████████████████████████████████████████████| 5/5 [00:09<00:00,  1.97s/it]"
     ]
    },
    {
     "name": "stdout",
     "output_type": "stream",
     "text": [
      "CPU times: user 81.8 ms, sys: 17.7 ms, total: 99.5 ms\n",
      "Wall time: 9.84 s\n"
     ]
    },
    {
     "name": "stderr",
     "output_type": "stream",
     "text": [
      "\n"
     ]
    }
   ],
   "source": [
    "%%time\n",
    "\n",
    "from tqdm import tqdm\n",
    "\n",
    "for group in tqdm(np.array_split(books_df.head(100), 5)): # 5 groups of 20 books\n",
    "    books = fetch_books(list(group.index))\n",
    "    \n",
    "    for isbn_code, book in books.items():\n",
    "        isbn = int(isbn_code.strip(\"ISBN:\"))\n",
    "        books_df.loc[isbn, \"cover_url\"] = book.get(\"cover\", {}).get(\"large\", \"\")"
   ]
  },
  {
   "cell_type": "code",
   "execution_count": null,
   "metadata": {
    "tags": [
     "delete"
    ]
   },
   "outputs": [
    {
     "data": {
      "text/html": [
       "<div>\n",
       "<style scoped>\n",
       "    .dataframe tbody tr th:only-of-type {\n",
       "        vertical-align: middle;\n",
       "    }\n",
       "\n",
       "    .dataframe tbody tr th {\n",
       "        vertical-align: top;\n",
       "    }\n",
       "\n",
       "    .dataframe thead th {\n",
       "        text-align: right;\n",
       "    }\n",
       "</style>\n",
       "<table border=\"1\" class=\"dataframe\">\n",
       "  <thead>\n",
       "    <tr style=\"text-align: right;\">\n",
       "      <th></th>\n",
       "      <th>title</th>\n",
       "      <th>authors</th>\n",
       "      <th># num_pages</th>\n",
       "      <th>cover_url</th>\n",
       "    </tr>\n",
       "    <tr>\n",
       "      <th>isbn13</th>\n",
       "      <th></th>\n",
       "      <th></th>\n",
       "      <th></th>\n",
       "      <th></th>\n",
       "    </tr>\n",
       "  </thead>\n",
       "  <tbody>\n",
       "    <tr>\n",
       "      <th>9780439785969</th>\n",
       "      <td>Harry Potter and the Half-Blood Prince (Harry ...</td>\n",
       "      <td>J.K. Rowling-Mary GrandPré</td>\n",
       "      <td>652</td>\n",
       "      <td>https://covers.openlibrary.org/b/id/9326654-L.jpg</td>\n",
       "    </tr>\n",
       "    <tr>\n",
       "      <th>9780439358071</th>\n",
       "      <td>Harry Potter and the Order of the Phoenix (Har...</td>\n",
       "      <td>J.K. Rowling-Mary GrandPré</td>\n",
       "      <td>870</td>\n",
       "      <td>https://covers.openlibrary.org/b/id/12025650-L...</td>\n",
       "    </tr>\n",
       "    <tr>\n",
       "      <th>9780439554930</th>\n",
       "      <td>Harry Potter and the Sorcerer's Stone (Harry P...</td>\n",
       "      <td>J.K. Rowling-Mary GrandPré</td>\n",
       "      <td>320</td>\n",
       "      <td>https://covers.openlibrary.org/b/id/7572543-L.jpg</td>\n",
       "    </tr>\n",
       "    <tr>\n",
       "      <th>9780439554893</th>\n",
       "      <td>Harry Potter and the Chamber of Secrets (Harry...</td>\n",
       "      <td>J.K. Rowling</td>\n",
       "      <td>352</td>\n",
       "      <td>https://covers.openlibrary.org/b/id/10301720-L...</td>\n",
       "    </tr>\n",
       "    <tr>\n",
       "      <th>9780439655484</th>\n",
       "      <td>Harry Potter and the Prisoner of Azkaban (Harr...</td>\n",
       "      <td>J.K. Rowling-Mary GrandPré</td>\n",
       "      <td>435</td>\n",
       "      <td>https://covers.openlibrary.org/b/id/10580458-L...</td>\n",
       "    </tr>\n",
       "    <tr>\n",
       "      <th>9780439682589</th>\n",
       "      <td>Harry Potter Boxed Set  Books 1-5 (Harry Potte...</td>\n",
       "      <td>J.K. Rowling-Mary GrandPré</td>\n",
       "      <td>2690</td>\n",
       "      <td>https://covers.openlibrary.org/b/id/278981-L.jpg</td>\n",
       "    </tr>\n",
       "    <tr>\n",
       "      <th>9780976540601</th>\n",
       "      <td>Unauthorized Harry Potter Book Seven News: \"Ha...</td>\n",
       "      <td>W. Frederick Zimmerman</td>\n",
       "      <td>152</td>\n",
       "      <td>https://covers.openlibrary.org/b/id/742235-L.jpg</td>\n",
       "    </tr>\n",
       "    <tr>\n",
       "      <th>9780439827607</th>\n",
       "      <td>Harry Potter Collection (Harry Potter  #1-6)</td>\n",
       "      <td>J.K. Rowling</td>\n",
       "      <td>3342</td>\n",
       "      <td>https://covers.openlibrary.org/b/id/279436-L.jpg</td>\n",
       "    </tr>\n",
       "    <tr>\n",
       "      <th>9780517226957</th>\n",
       "      <td>The Ultimate Hitchhiker's Guide: Five Complete...</td>\n",
       "      <td>Douglas Adams</td>\n",
       "      <td>815</td>\n",
       "      <td>https://covers.openlibrary.org/b/id/12617870-L...</td>\n",
       "    </tr>\n",
       "    <tr>\n",
       "      <th>9780345453747</th>\n",
       "      <td>The Ultimate Hitchhiker's Guide to the Galaxy</td>\n",
       "      <td>Douglas Adams</td>\n",
       "      <td>815</td>\n",
       "      <td></td>\n",
       "    </tr>\n",
       "    <tr>\n",
       "      <th>9781400052929</th>\n",
       "      <td>The Hitchhiker's Guide to the Galaxy (Hitchhik...</td>\n",
       "      <td>Douglas Adams</td>\n",
       "      <td>215</td>\n",
       "      <td>https://covers.openlibrary.org/b/id/10176291-L...</td>\n",
       "    </tr>\n",
       "    <tr>\n",
       "      <th>9780739322208</th>\n",
       "      <td>The Hitchhiker's Guide to the Galaxy (Hitchhik...</td>\n",
       "      <td>Douglas Adams-Stephen Fry</td>\n",
       "      <td>6</td>\n",
       "      <td>https://covers.openlibrary.org/b/id/8769632-L.jpg</td>\n",
       "    </tr>\n",
       "    <tr>\n",
       "      <th>9780517149256</th>\n",
       "      <td>The Ultimate Hitchhiker's Guide (Hitchhiker's ...</td>\n",
       "      <td>Douglas Adams</td>\n",
       "      <td>815</td>\n",
       "      <td>https://covers.openlibrary.org/b/id/7892560-L.jpg</td>\n",
       "    </tr>\n",
       "    <tr>\n",
       "      <th>9780767908184</th>\n",
       "      <td>A Short History of Nearly Everything</td>\n",
       "      <td>Bill Bryson-William Roberts</td>\n",
       "      <td>544</td>\n",
       "      <td>https://covers.openlibrary.org/b/id/12725608-L...</td>\n",
       "    </tr>\n",
       "    <tr>\n",
       "      <th>9780767915069</th>\n",
       "      <td>Bill Bryson's African Diary</td>\n",
       "      <td>Bill Bryson</td>\n",
       "      <td>55</td>\n",
       "      <td>https://covers.openlibrary.org/b/id/6815851-L.jpg</td>\n",
       "    </tr>\n",
       "    <tr>\n",
       "      <th>9780767910439</th>\n",
       "      <td>Bryson's Dictionary of Troublesome Words: A Wr...</td>\n",
       "      <td>Bill Bryson</td>\n",
       "      <td>256</td>\n",
       "      <td>https://covers.openlibrary.org/b/id/6513848-L.jpg</td>\n",
       "    </tr>\n",
       "    <tr>\n",
       "      <th>9780767903868</th>\n",
       "      <td>In a Sunburned Country</td>\n",
       "      <td>Bill Bryson</td>\n",
       "      <td>335</td>\n",
       "      <td>https://covers.openlibrary.org/b/id/12722656-L...</td>\n",
       "    </tr>\n",
       "    <tr>\n",
       "      <th>9780767903820</th>\n",
       "      <td>I'm a Stranger Here Myself: Notes on Returning...</td>\n",
       "      <td>Bill Bryson</td>\n",
       "      <td>304</td>\n",
       "      <td>https://covers.openlibrary.org/b/id/12722647-L...</td>\n",
       "    </tr>\n",
       "    <tr>\n",
       "      <th>9780060920081</th>\n",
       "      <td>The Lost Continent: Travels in Small Town America</td>\n",
       "      <td>Bill Bryson</td>\n",
       "      <td>299</td>\n",
       "      <td>https://covers.openlibrary.org/b/id/12722717-L...</td>\n",
       "    </tr>\n",
       "    <tr>\n",
       "      <th>9780380713806</th>\n",
       "      <td>Neither Here nor There: Travels in Europe</td>\n",
       "      <td>Bill Bryson</td>\n",
       "      <td>254</td>\n",
       "      <td>https://covers.openlibrary.org/b/id/6543636-L.jpg</td>\n",
       "    </tr>\n",
       "  </tbody>\n",
       "</table>\n",
       "</div>"
      ],
      "text/plain": [
       "                                                           title  \\\n",
       "isbn13                                                             \n",
       "9780439785969  Harry Potter and the Half-Blood Prince (Harry ...   \n",
       "9780439358071  Harry Potter and the Order of the Phoenix (Har...   \n",
       "9780439554930  Harry Potter and the Sorcerer's Stone (Harry P...   \n",
       "9780439554893  Harry Potter and the Chamber of Secrets (Harry...   \n",
       "9780439655484  Harry Potter and the Prisoner of Azkaban (Harr...   \n",
       "9780439682589  Harry Potter Boxed Set  Books 1-5 (Harry Potte...   \n",
       "9780976540601  Unauthorized Harry Potter Book Seven News: \"Ha...   \n",
       "9780439827607       Harry Potter Collection (Harry Potter  #1-6)   \n",
       "9780517226957  The Ultimate Hitchhiker's Guide: Five Complete...   \n",
       "9780345453747      The Ultimate Hitchhiker's Guide to the Galaxy   \n",
       "9781400052929  The Hitchhiker's Guide to the Galaxy (Hitchhik...   \n",
       "9780739322208  The Hitchhiker's Guide to the Galaxy (Hitchhik...   \n",
       "9780517149256  The Ultimate Hitchhiker's Guide (Hitchhiker's ...   \n",
       "9780767908184               A Short History of Nearly Everything   \n",
       "9780767915069                        Bill Bryson's African Diary   \n",
       "9780767910439  Bryson's Dictionary of Troublesome Words: A Wr...   \n",
       "9780767903868                             In a Sunburned Country   \n",
       "9780767903820  I'm a Stranger Here Myself: Notes on Returning...   \n",
       "9780060920081  The Lost Continent: Travels in Small Town America   \n",
       "9780380713806          Neither Here nor There: Travels in Europe   \n",
       "\n",
       "                                   authors  # num_pages  \\\n",
       "isbn13                                                    \n",
       "9780439785969   J.K. Rowling-Mary GrandPré          652   \n",
       "9780439358071   J.K. Rowling-Mary GrandPré          870   \n",
       "9780439554930   J.K. Rowling-Mary GrandPré          320   \n",
       "9780439554893                 J.K. Rowling          352   \n",
       "9780439655484   J.K. Rowling-Mary GrandPré          435   \n",
       "9780439682589   J.K. Rowling-Mary GrandPré         2690   \n",
       "9780976540601       W. Frederick Zimmerman          152   \n",
       "9780439827607                 J.K. Rowling         3342   \n",
       "9780517226957                Douglas Adams          815   \n",
       "9780345453747                Douglas Adams          815   \n",
       "9781400052929                Douglas Adams          215   \n",
       "9780739322208    Douglas Adams-Stephen Fry            6   \n",
       "9780517149256                Douglas Adams          815   \n",
       "9780767908184  Bill Bryson-William Roberts          544   \n",
       "9780767915069                  Bill Bryson           55   \n",
       "9780767910439                  Bill Bryson          256   \n",
       "9780767903868                  Bill Bryson          335   \n",
       "9780767903820                  Bill Bryson          304   \n",
       "9780060920081                  Bill Bryson          299   \n",
       "9780380713806                  Bill Bryson          254   \n",
       "\n",
       "                                                       cover_url  \n",
       "isbn13                                                            \n",
       "9780439785969  https://covers.openlibrary.org/b/id/9326654-L.jpg  \n",
       "9780439358071  https://covers.openlibrary.org/b/id/12025650-L...  \n",
       "9780439554930  https://covers.openlibrary.org/b/id/7572543-L.jpg  \n",
       "9780439554893  https://covers.openlibrary.org/b/id/10301720-L...  \n",
       "9780439655484  https://covers.openlibrary.org/b/id/10580458-L...  \n",
       "9780439682589   https://covers.openlibrary.org/b/id/278981-L.jpg  \n",
       "9780976540601   https://covers.openlibrary.org/b/id/742235-L.jpg  \n",
       "9780439827607   https://covers.openlibrary.org/b/id/279436-L.jpg  \n",
       "9780517226957  https://covers.openlibrary.org/b/id/12617870-L...  \n",
       "9780345453747                                                     \n",
       "9781400052929  https://covers.openlibrary.org/b/id/10176291-L...  \n",
       "9780739322208  https://covers.openlibrary.org/b/id/8769632-L.jpg  \n",
       "9780517149256  https://covers.openlibrary.org/b/id/7892560-L.jpg  \n",
       "9780767908184  https://covers.openlibrary.org/b/id/12725608-L...  \n",
       "9780767915069  https://covers.openlibrary.org/b/id/6815851-L.jpg  \n",
       "9780767910439  https://covers.openlibrary.org/b/id/6513848-L.jpg  \n",
       "9780767903868  https://covers.openlibrary.org/b/id/12722656-L...  \n",
       "9780767903820  https://covers.openlibrary.org/b/id/12722647-L...  \n",
       "9780060920081  https://covers.openlibrary.org/b/id/12722717-L...  \n",
       "9780380713806  https://covers.openlibrary.org/b/id/6543636-L.jpg  "
      ]
     },
     "execution_count": null,
     "metadata": {},
     "output_type": "execute_result"
    }
   ],
   "source": [
    "books_df.head(20)"
   ]
  }
 ],
 "metadata": {
  "kernelspec": {
   "display_name": "Python 3 (ipykernel)",
   "language": "python",
   "name": "python3"
  },
  "language_info": {
   "codemirror_mode": {
    "name": "ipython",
    "version": 3
   },
   "file_extension": ".py",
   "mimetype": "text/x-python",
   "name": "python",
   "nbconvert_exporter": "python",
   "pygments_lexer": "ipython3",
   "version": "3.10.6"
  },
  "toc": {
   "base_numbering": 1,
   "nav_menu": {},
   "number_sections": true,
   "sideBar": true,
   "skip_h1_title": false,
   "title_cell": "Table of Contents",
   "title_sidebar": "Contents",
   "toc_cell": false,
   "toc_position": {},
   "toc_section_display": true,
   "toc_window_display": false
  }
 },
 "nbformat": 4,
 "nbformat_minor": 4
}
