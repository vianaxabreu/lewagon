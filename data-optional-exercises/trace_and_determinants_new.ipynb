{
 "cells": [
  {
   "cell_type": "markdown",
   "id": "094e5260",
   "metadata": {},
   "source": [
    "# Trace and Determinant\n",
    "\n",
    "If you are done with all the previous challenges, you can try these katas that can be found on Codewars:\n",
    "- [Calculate the trace of a square matrix](https://www.codewars.com/kata/matrix-trace/train/python)\n",
    "- [Write a function that accepts a square matrix (N x N 2D array) and returns the determinant of the matrix.](https://www.codewars.com/kata/matrix-determinant/train/python)"
   ]
  },
  {
   "cell_type": "code",
   "execution_count": 1,
   "id": "861519b4",
   "metadata": {},
   "outputs": [],
   "source": [
    "import numpy as np"
   ]
  },
  {
   "cell_type": "markdown",
   "id": "aa3d9d1f",
   "metadata": {},
   "source": [
    "## (1) Trace (easy 😇) "
   ]
  },
  {
   "cell_type": "markdown",
   "id": "c87ac777",
   "metadata": {},
   "source": [
    "🎯 Calculate the trace of a square matrix. \n",
    "\n",
    "* A square matrix has `n` rows and `n` columns, where `n` is any integer > 0. \n",
    "* The entries of the matrix can contain any number of integers. \n",
    "\n",
    "👉 The function should return the calculated trace of the matrix, or None if the array is empty or not square. \n",
    "\n",
    "📚 The trace of an n-by-n square matrix A is defined to be the sum of the elements on the main diagonal (the diagonal from the upper left to the lower right) of A.\n",
    "\n",
    "ℹ️ You can read more about the trace of a matrix at these sources:\n",
    "* http://en.wikipedia.org/wiki/Trace_(linear_algebra)\n",
    "* http://mathworld.wolfram.com/MatrixTrace.html"
   ]
  },
  {
   "cell_type": "markdown",
   "id": "fc7a90eb",
   "metadata": {},
   "source": [
    "### (1.1) Warm-up"
   ]
  },
  {
   "cell_type": "markdown",
   "id": "d7978bd3",
   "metadata": {},
   "source": [
    "👉 Let's create now a square matrix $ A = \\begin{bmatrix}\n",
    "    1 & 2 & 3\\\\\n",
    "    4 & 5 & 6\\\\\n",
    "    7 & 8 & 9\n",
    "\\end{bmatrix}$"
   ]
  },
  {
   "cell_type": "code",
   "execution_count": 2,
   "id": "ef60dd10",
   "metadata": {},
   "outputs": [],
   "source": [
    "A = np.array([\n",
    "    [1,2,3],\n",
    "    [4,5,6],\n",
    "    [7,8,9]\n",
    "])"
   ]
  },
  {
   "cell_type": "markdown",
   "id": "14c5775c",
   "metadata": {},
   "source": [
    "❓ <b>Question</b> ❓ Compute its trace, which is the sum of its diagonal elements."
   ]
  },
  {
   "cell_type": "code",
   "execution_count": 5,
   "id": "40aea7f8",
   "metadata": {},
   "outputs": [
    {
     "data": {
      "text/plain": [
       "15"
      ]
     },
     "execution_count": 5,
     "metadata": {},
     "output_type": "execute_result"
    }
   ],
   "source": [
    "# You can select the diagonal elements of B\n",
    "A.diagonal().sum()\n",
    "\n",
    "# and sum them \n"
   ]
  },
  {
   "cell_type": "code",
   "execution_count": 7,
   "id": "0a889ddf",
   "metadata": {},
   "outputs": [
    {
     "data": {
      "text/plain": [
       "15"
      ]
     },
     "execution_count": 7,
     "metadata": {},
     "output_type": "execute_result"
    }
   ],
   "source": [
    "# You can also do it faster using np.diag\n",
    "np.diag(A).sum()"
   ]
  },
  {
   "cell_type": "markdown",
   "id": "0b53d049",
   "metadata": {},
   "source": [
    "### (1.2) The `trace` function"
   ]
  },
  {
   "cell_type": "code",
   "execution_count": null,
   "id": "4381024c",
   "metadata": {},
   "outputs": [],
   "source": [
    "# Compute now the trace function which returns the trace of a matrix, \n",
    "# checking first that it's a square matrix\n",
    "\n",
    "def trace(matrix: np.array) -> float:\n",
    "    if matrix.shape\n",
    "    return "
   ]
  },
  {
   "cell_type": "code",
   "execution_count": null,
   "id": "ccbd09b8",
   "metadata": {},
   "outputs": [],
   "source": [
    "# Call the function on the squared matrix A to double-check\n"
   ]
  },
  {
   "cell_type": "markdown",
   "id": "2010149d",
   "metadata": {},
   "source": [
    "---"
   ]
  },
  {
   "cell_type": "markdown",
   "id": "7c306273",
   "metadata": {},
   "source": [
    "## (2) Determinant (hard 🤯)"
   ]
  },
  {
   "cell_type": "markdown",
   "id": "93e8fe64",
   "metadata": {},
   "source": [
    "[Determinant](https://en.wikipedia.org/wiki/Determinant) are extremely important concepts in linear algebra. \n",
    "\n",
    "To start with, _a matrix is invertible if and only if its determinant is different from 0_  \n",
    "\n",
    "It's pretty useful to measure _how close to being non-invertible_ a matrix is (in a quantifiable way!)\n",
    "\n",
    "But that's not all of it: watch this <a href=\"https://www.youtube.com/watch?v=Ip3X9LOh2dk\">10-min Youtube video </a> to get an intuition about what is a determinant and why it's important\n",
    "\n",
    "❓ Your goal is to **create a function that manually compute the determinant of any matrix** (squared or not). It's a hard question, so, good luck! 💪\n",
    "\n",
    "----\n",
    "<u>**Hints:**</u>\n",
    "\n",
    "Here are some properties of a determinant that could help you build the function\n",
    "* The determinant of an empty matrix is 0\n",
    "* The determinant of a $ 1 \\times 1 $ matrix is equal to its single coefficient\n",
    "* The determinant of a $ 2 \\times 2 $ matrix $\\begin{bmatrix} a & b\\\\ c & d \\end{bmatrix}$ is equal to $ad - bc$\n",
    "* The determinant of a $ 3 \\times 3 $ matrix can be computed recursively based on the $ 2 \\times 2 $ `minor determinants`, alternating + and minus signs\n",
    "\\begin{aligned}{\\begin{vmatrix}a&b&c\\\\d&e&f\\\\g&h&i\\end{vmatrix}}&=a\\,{\\begin{vmatrix}e&f\\\\h&i\\end{vmatrix}}-b\\,{\\begin{vmatrix}d&f\\\\g&i\\end{vmatrix}}+c\\,{\\begin{vmatrix}d&e\\\\g&h\\end{vmatrix}}\\end{aligned}\n",
    "* etc...\n",
    "\n",
    "☝️ Your function should therefore be a **`recursive function`** (a function that calls itself!)"
   ]
  },
  {
   "cell_type": "code",
   "execution_count": 23,
   "id": "a51f8287",
   "metadata": {},
   "outputs": [
    {
     "data": {
      "text/plain": [
       "1"
      ]
     },
     "execution_count": 23,
     "metadata": {},
     "output_type": "execute_result"
    }
   ],
   "source": [
    "np.array([[1]])[0][0]"
   ]
  },
  {
   "cell_type": "code",
   "execution_count": 24,
   "id": "b099bef0",
   "metadata": {
    "tags": []
   },
   "outputs": [],
   "source": [
    "import numpy as np\n",
    "\n",
    "def determinant(matrix: np.array) -> float:   \n",
    "    if matrix.size == 0:\n",
    "        return 0\n",
    "    elif matrix.size == 1:\n",
    "        return matrix[0][0]\n",
    "    if "
   ]
  },
  {
   "cell_type": "markdown",
   "id": "690babc3",
   "metadata": {},
   "source": [
    "🧪 Test your code by running the following cells. It will compare the `determinant` function you've just coded with the built-in `np.linalg.det` from Numpy and raise errors if different"
   ]
  },
  {
   "cell_type": "code",
   "execution_count": null,
   "id": "a81d987a",
   "metadata": {},
   "outputs": [],
   "source": [
    "A = np.eye(2)\n",
    "assert(np.allclose(determinant(A), np.linalg.det(A) == True)"
   ]
  },
  {
   "cell_type": "code",
   "execution_count": null,
   "id": "bd7698db",
   "metadata": {},
   "outputs": [],
   "source": [
    "B = np.array([\n",
    "    [1,2,3],\n",
    "    [4,5,6],\n",
    "    [7,8,9]\n",
    "])\n",
    "assert(np.allclose(determinant(B), np.linalg.det(B) == True)"
   ]
  },
  {
   "cell_type": "code",
   "execution_count": null,
   "id": "8cf237d3",
   "metadata": {},
   "outputs": [],
   "source": [
    "C = np.array([\n",
    "    [1,2,3,4],\n",
    "    [5,6,7,8],\n",
    "    [9,10,11,12],\n",
    "    [13,14,15,16]\n",
    "])\n",
    "assert(np.allclose(determinant(C), np.linalg.det(C) == True)"
   ]
  },
  {
   "cell_type": "markdown",
   "id": "9e3c3526",
   "metadata": {},
   "source": [
    "🏁 **Congrats for finishing the day!**"
   ]
  }
 ],
 "metadata": {
  "kernelspec": {
   "display_name": "Python 3 (ipykernel)",
   "language": "python",
   "name": "python3"
  },
  "language_info": {
   "codemirror_mode": {
    "name": "ipython",
    "version": 3
   },
   "file_extension": ".py",
   "mimetype": "text/x-python",
   "name": "python",
   "nbconvert_exporter": "python",
   "pygments_lexer": "ipython3",
   "version": "3.10.6"
  },
  "toc": {
   "base_numbering": 1,
   "nav_menu": {},
   "number_sections": true,
   "sideBar": true,
   "skip_h1_title": false,
   "title_cell": "Table of Contents",
   "title_sidebar": "Contents",
   "toc_cell": false,
   "toc_position": {},
   "toc_section_display": true,
   "toc_window_display": false
  }
 },
 "nbformat": 4,
 "nbformat_minor": 5
}
